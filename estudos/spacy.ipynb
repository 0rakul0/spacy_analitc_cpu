{
 "cells": [
  {
   "cell_type": "code",
   "execution_count": 1,
   "metadata": {
    "collapsed": true,
    "ExecuteTime": {
     "start_time": "2023-06-17T20:03:32.224318Z",
     "end_time": "2023-06-17T20:03:38.222588Z"
    }
   },
   "outputs": [],
   "source": [
    "import spacy\n",
    "nlp = spacy.load('pt_core_news_lg')"
   ]
  },
  {
   "cell_type": "code",
   "execution_count": 2,
   "outputs": [
    {
     "name": "stdout",
     "output_type": "stream",
     "text": [
      "['tok2vec', 'morphologizer', 'parser', 'lemmatizer', 'attribute_ruler', 'ner']\n"
     ]
    }
   ],
   "source": [
    "print(nlp.pipe_names)"
   ],
   "metadata": {
    "collapsed": false,
    "ExecuteTime": {
     "start_time": "2023-06-17T20:03:38.225608Z",
     "end_time": "2023-06-17T20:03:38.237619Z"
    }
   }
  },
  {
   "cell_type": "code",
   "execution_count": 3,
   "outputs": [
    {
     "name": "stdout",
     "output_type": "stream",
     "text": [
      "16\n",
      "<class 'spacy.tokens.doc.Doc'>\n"
     ]
    }
   ],
   "source": [
    "corpus = nlp(\"as ações da Magazine Luisa S.A., França e Brasil, acumulam baixa de 70%\")\n",
    "\n",
    "print(len(corpus))\n",
    "\n",
    "print(type(corpus))"
   ],
   "metadata": {
    "collapsed": false,
    "ExecuteTime": {
     "start_time": "2023-06-17T20:03:38.240120Z",
     "end_time": "2023-06-17T20:03:38.282205Z"
    }
   }
  },
  {
   "cell_type": "markdown",
   "source": [
    "## Propriedades, dessa forma de verdadeiro e falso, podemos remover itens que não queremos na nossa mineração.\n"
   ],
   "metadata": {
    "collapsed": false
   }
  },
  {
   "cell_type": "code",
   "execution_count": 4,
   "outputs": [
    {
     "name": "stdout",
     "output_type": "stream",
     "text": [
      "Tokens:  ['as', 'ações', 'da', 'Magazine', 'Luisa', 'S.A.', ',', 'França', 'e', 'Brasil', ',', 'acumulam', 'baixa', 'de', '70', '%']\n",
      "stop word:  [True, False, True, False, False, False, False, False, True, False, False, False, False, True, False, False]\n",
      "Alfanumerico:  [True, True, True, True, True, False, False, True, True, True, False, True, True, True, False, False]\n",
      "Maiusculo:  [False, False, False, False, False, True, False, False, False, False, False, False, False, False, False, False]\n",
      "Pontuação:  [False, False, False, False, False, False, True, False, False, False, True, False, False, False, False, True]\n",
      "numero:  [False, False, False, False, False, False, False, False, False, False, False, False, False, False, True, False]\n",
      "Sentença Inicial:  [True, False, False, False, False, False, False, False, False, False, False, False, False, False, False, False]\n",
      "Sentença final:  [False, False, False, False, False, False, False, False, False, False, False, False, False, False, False, True]\n"
     ]
    }
   ],
   "source": [
    "print(\"Tokens: \",[token.text for token in corpus])\n",
    "print(\"stop word: \",[token.is_stop for token in corpus])\n",
    "print(\"Alfanumerico: \",[token.is_alpha for token in corpus])\n",
    "print(\"Maiusculo: \",[token.is_upper for token in corpus])\n",
    "print(\"Pontuação: \",[token.is_punct for token in corpus])\n",
    "print(\"numero: \",[token.like_num for token in corpus])\n",
    "print(\"Sentença Inicial: \",[token.is_sent_start for token in corpus])\n",
    "print(\"Sentença final: \",[token.is_sent_end for token in corpus])"
   ],
   "metadata": {
    "collapsed": false,
    "ExecuteTime": {
     "start_time": "2023-06-17T20:03:38.258683Z",
     "end_time": "2023-06-17T20:03:38.282710Z"
    }
   }
  },
  {
   "cell_type": "markdown",
   "source": [
    "## para vizualizar o Formato"
   ],
   "metadata": {
    "collapsed": false
   }
  },
  {
   "cell_type": "code",
   "execution_count": 5,
   "outputs": [
    {
     "name": "stdout",
     "output_type": "stream",
     "text": [
      "Tokens:  ['as', 'ações', 'da', 'Magazine', 'Luisa', 'S.A.', ',', 'França', 'e', 'Brasil', ',', 'acumulam', 'baixa', 'de', '70', '%']\n",
      "Formato:  ['xx', 'xxxx', 'xx', 'Xxxxx', 'Xxxxx', 'X.X.', ',', 'Xxxxx', 'x', 'Xxxxx', ',', 'xxxx', 'xxxx', 'xx', 'dd', '%']\n"
     ]
    }
   ],
   "source": [
    "print(\"Tokens: \",[token.text for token in corpus])\n",
    "print(\"Formato: \",[token.shape_ for token in corpus])"
   ],
   "metadata": {
    "collapsed": false,
    "ExecuteTime": {
     "start_time": "2023-06-17T20:03:38.271694Z",
     "end_time": "2023-06-17T20:03:38.302246Z"
    }
   }
  },
  {
   "cell_type": "markdown",
   "source": [
    "## entendimento\n",
    "\n",
    "| POS   | Descrição                | Exemplos                  |\n",
    "|-------|--------------------------|---------------------------|\n",
    "| ADJ   | Adjetivo                 | pequeno, bonito, grande   |\n",
    "| ADP   | Aposição                 | Entre, para, durante      |\n",
    "| ADV   | Advérbio                 | Muito, mais, bastante     |\n",
    "| AUX   | Verbo Auxiliar           | Havia, tinha              |\n",
    "| CONJ  | conjunção                | E, ou, assim              |\n",
    "| CCONJ | conjunção coordenativa   | que, porque, pois         |\n",
    "| DET   | determinante             | Este, aquela, tal         |\n",
    "| INTJ  | interjeição              | Ah!, Coitado, basta       |\n",
    "| NOUN  | Substantivo              | Cachorro, mesa, casa      |\n",
    "| NUM   | Número                   | Um, dois, cem             |\n",
    "| PART  | Partícula                | Não, sim, não obstante    |\n",
    "| PRON  | Pronome                  | Eu, você, ele             |\n",
    "| PROPN | Nome próprio             | João, Brasil, Coca-Cola   |\n",
    "| PUNCT | Pontuação                | ., ?, !, ...              |\n",
    "| SCONJ | Conjunção subordinativa  | que, quando, se           |\n",
    "| SYM   | Símbolo                  | %, +, @, #                |\n",
    "| VERB  | Verbo                    | Correr, escrever, cantar  |\n",
    "| X     | Outros                   | N/A                       |\n",
    "| SPACE | Espaço                   |                           |"
   ],
   "metadata": {
    "collapsed": false
   }
  },
  {
   "cell_type": "code",
   "execution_count": 6,
   "outputs": [
    {
     "name": "stdout",
     "output_type": "stream",
     "text": [
      "as  -  DET  -  det  -  o  -  xx\n",
      "ações  -  NOUN  -  nsubj  -  ação  -  xxxx\n",
      "da  -  ADP  -  case  -  de o  -  xx\n",
      "Magazine  -  PROPN  -  nmod  -  Magazine  -  Xxxxx\n",
      "Luisa  -  PROPN  -  appos  -  Luisa  -  Xxxxx\n",
      "S.A.  -  PROPN  -  flat:name  -  S.A.  -  X.X.\n",
      ",  -  PUNCT  -  punct  -  ,  -  ,\n",
      "França  -  PROPN  -  conj  -  França  -  Xxxxx\n",
      "e  -  CCONJ  -  cc  -  e  -  x\n",
      "Brasil  -  PROPN  -  conj  -  Brasil  -  Xxxxx\n",
      ",  -  PUNCT  -  punct  -  ,  -  ,\n",
      "acumulam  -  VERB  -  ROOT  -  acumular  -  xxxx\n",
      "baixa  -  NOUN  -  obj  -  baixa  -  xxxx\n",
      "de  -  ADP  -  case  -  de  -  xx\n",
      "70  -  NUM  -  nummod  -  70  -  dd\n",
      "%  -  SYM  -  nmod  -  %  -  %\n"
     ]
    }
   ],
   "source": [
    "for token in corpus:\n",
    "    print(token.text, \" - \", token.pos_, \" - \", token.dep_, \" - \", token.lemma_, \" - \", token.shape_)"
   ],
   "metadata": {
    "collapsed": false,
    "ExecuteTime": {
     "start_time": "2023-06-17T20:03:38.287734Z",
     "end_time": "2023-06-17T20:03:38.302246Z"
    }
   }
  },
  {
   "cell_type": "code",
   "execution_count": 7,
   "outputs": [
    {
     "name": "stdout",
     "output_type": "stream",
     "text": [
      "as  -  Definite=Def|Gender=Fem|Number=Plur|PronType=Art\n",
      "ações  -  Gender=Fem|Number=Plur\n",
      "da  -  Definite=Def|Gender=Fem|Number=Sing|PronType=Art\n",
      "Magazine  -  Gender=Fem|Number=Sing\n",
      "Luisa  -  Gender=Fem|Number=Sing\n",
      "S.A.  -  Number=Sing\n",
      ",  -  \n",
      "França  -  Gender=Fem|Number=Sing\n",
      "e  -  \n",
      "Brasil  -  Gender=Masc|Number=Sing\n",
      ",  -  \n",
      "acumulam  -  Mood=Ind|Number=Plur|Person=3|Tense=Pres|VerbForm=Fin\n",
      "baixa  -  Gender=Fem|Number=Sing\n",
      "de  -  \n",
      "70  -  NumType=Card\n",
      "%  -  \n"
     ]
    }
   ],
   "source": [
    "for token in corpus:\n",
    "    print(token.text, \" - \", token.morph)"
   ],
   "metadata": {
    "collapsed": false,
    "ExecuteTime": {
     "start_time": "2023-06-17T20:03:38.302246Z",
     "end_time": "2023-06-17T20:03:38.390465Z"
    }
   }
  },
  {
   "cell_type": "code",
   "execution_count": 8,
   "outputs": [
    {
     "name": "stdout",
     "output_type": "stream",
     "text": [
      "as  -  DET\n",
      "ações  -  NOUN\n",
      "da  -  ADP\n",
      "Magazine  -  PROPN\n",
      "Luisa  -  PROPN\n",
      "S.A.  -  PROPN\n",
      ",  -  PUNCT\n",
      "França  -  PROPN\n",
      "e  -  CCONJ\n",
      "Brasil  -  PROPN\n",
      ",  -  PUNCT\n",
      "acumulam  -  VERB\n",
      "baixa  -  NOUN\n",
      "de  -  ADP\n",
      "70  -  NUM\n",
      "%  -  SYM\n"
     ]
    }
   ],
   "source": [
    "for token in corpus:\n",
    "    print(token.text, \" - \", token.tag_)"
   ],
   "metadata": {
    "collapsed": false,
    "ExecuteTime": {
     "start_time": "2023-06-17T20:03:38.319274Z",
     "end_time": "2023-06-17T20:03:38.391465Z"
    }
   }
  },
  {
   "cell_type": "markdown",
   "source": [
    "## Quando se trata de entidades - locais ou itens especificos"
   ],
   "metadata": {
    "collapsed": false
   }
  },
  {
   "cell_type": "code",
   "execution_count": 9,
   "outputs": [],
   "source": [
    "corpus_ent = nlp(\"EDITAL DE CITAÇÃO COM PRAZO DE  30 DIAS  O DOUTOR ELVO PIGARI JÚNIOR JUIZ DE DIREITO SUBSTITUTO DA 7.ª VARA CÍVEL DA COMARCA DE BOA VISTA/RR  CITAÇÃO DE: FRANCISCO JOSÉ CARDOSO,  brasileiro, casado, autônomo, estando em lugar incerto e não sabido.  FINALIDADE: Para tomar conhecimento dos termos do Processo n.º 0010 02 045927 -6, Ação de DIVÓRCIO LITIGIOSO , em que são partes: Requerente(s) L.L.C.  e Requerido(a) F.J.C. , e ciência do ônus de comparecer a audiência de Conciliação  designada para o dia 14/03/2003 às 10h30min,  na sala de audiências deste Juízo, acompanhada de advogado, sob as penas da lei. A partir desta data correrá o prazo de 15 (quin ze) dias para apresentar contestação, sob pena de não o fazendo, presumirem -se como verdadeiros os fatos articulados pelo(a) autor(a) da inicial.  SEDE DO JUÍZO : 7.ª Vara Cível – Edifício do Fórum Advogado Sobral Pinto – Praça do Centro Cívico, s/n – Cent ro – Boa Vista/RR.  Dado e passado nesta Cidade de Boa Vista, Capital do Estado de Roraima aos oito dias do mês de janeiro do ano de dois mil e três. Eu, P.G.J. (Técnica Judiciária) o digitei.  ELVO PIGARI JÚNIOR Juiz de Direito \")"
   ],
   "metadata": {
    "collapsed": false,
    "ExecuteTime": {
     "start_time": "2023-06-17T20:03:38.333874Z",
     "end_time": "2023-06-17T20:03:38.407503Z"
    }
   }
  },
  {
   "cell_type": "code",
   "execution_count": 10,
   "outputs": [
    {
     "name": "stdout",
     "output_type": "stream",
     "text": [
      "ELVO PIGARI JÚNIOR JUIZ DE DIREITO SUBSTITUTO DA  -  MISC\n",
      "BOA VISTA  -  LOC\n",
      "RR  CITAÇÃO DE  -  ORG\n",
      "FRANCISCO JOSÉ CARDOSO  -  PER\n",
      "FINALIDADE  -  ORG\n",
      "Processo n.º 0010 02  -  MISC\n",
      "Ação de DIVÓRCIO LITIGIOSO  -  MISC\n",
      "Requerente(s  -  MISC\n",
      "L.L.C.  -  MISC\n",
      "Requerido(a  -  ORG\n",
      "F.J.C.  -  PER\n",
      "Conciliação  designada para o dia 14/03/2003  -  MISC\n",
      "Juízo  -  LOC\n",
      "quin ze  -  ORG\n",
      "DO JUÍZO  -  MISC\n",
      "Vara Cível  -  LOC\n",
      "Edifício do Fórum Advogado Sobral Pinto  -  LOC\n",
      "Praça do Centro Cívico  -  LOC\n",
      "Boa Vista  -  LOC\n",
      "RR  -  LOC\n",
      "Cidade de Boa Vista  -  LOC\n",
      "Capital  -  LOC\n",
      "Estado  -  LOC\n",
      "Roraima  -  LOC\n",
      "P.G.J.  -  LOC\n",
      "Técnica Judiciária  -  LOC\n",
      "PIGARI JÚNIOR  -  PER\n",
      "Juiz de Direito  -  LOC\n"
     ]
    }
   ],
   "source": [
    "for ent in corpus_ent.ents:\n",
    "    print(ent.text, \" - \", ent.label_)"
   ],
   "metadata": {
    "collapsed": false,
    "ExecuteTime": {
     "start_time": "2023-06-17T20:03:38.398493Z",
     "end_time": "2023-06-17T20:03:38.408501Z"
    }
   }
  },
  {
   "cell_type": "markdown",
   "source": [
    "### para adicionar paralavra a stop words"
   ],
   "metadata": {
    "collapsed": false
   }
  },
  {
   "cell_type": "code",
   "execution_count": 11,
   "outputs": [],
   "source": [
    "nlp.Defaults.stop_words.add(\"eita\")\n",
    "nlp.vocab['eita'].is_stop = True"
   ],
   "metadata": {
    "collapsed": false,
    "ExecuteTime": {
     "start_time": "2023-06-17T20:03:38.409500Z",
     "end_time": "2023-06-17T20:03:38.452602Z"
    }
   }
  },
  {
   "cell_type": "markdown",
   "source": [
    "### para remover as stop words do nosso texto"
   ],
   "metadata": {
    "collapsed": false
   }
  },
  {
   "cell_type": "code",
   "execution_count": 12,
   "outputs": [
    {
     "name": "stdout",
     "output_type": "stream",
     "text": [
      "EDITAL DE CITAÇÃO COM PRAZO DE  30 DIAS  O DOUTOR ELVO PIGARI JÚNIOR JUIZ DE DIREITO SUBSTITUTO DA 7.ª VARA CÍVEL DA COMARCA DE BOA VISTA/RR  CITAÇÃO DE: FRANCISCO JOSÉ CARDOSO,  brasileiro, casado, autônomo, estando em lugar incerto e não sabido.  FINALIDADE: Para tomar conhecimento dos termos do Processo n.º 0010 02 045927 -6, Ação de DIVÓRCIO LITIGIOSO , em que são partes: Requerente(s) L.L.C.  e Requerido(a) F.J.C. , e ciência do ônus de comparecer a audiência de Conciliação  designada para o dia 14/03/2003 às 10h30min,  na sala de audiências deste Juízo, acompanhada de advogado, sob as penas da lei. A partir desta data correrá o prazo de 15 (quin ze) dias para apresentar contestação, sob pena de não o fazendo, presumirem -se como verdadeiros os fatos articulados pelo(a) autor(a) da inicial.  SEDE DO JUÍZO : 7.ª Vara Cível – Edifício do Fórum Advogado Sobral Pinto – Praça do Centro Cívico, s/n – Cent ro – Boa Vista/RR.  Dado e passado nesta Cidade de Boa Vista, Capital do Estado de Roraima aos oito dias do mês de janeiro do ano de dois mil e três. Eu, P.G.J. (Técnica Judiciária) o digitei.  ELVO PIGARI JÚNIOR Juiz de Direito \n",
      "['EDITAL', 'DE', 'CITAÇÃO', 'COM', 'PRAZO', 'DE', ' ', '30', 'DIAS', ' ', 'O', 'DOUTOR', 'ELVO', 'PIGARI', 'JÚNIOR', 'JUIZ', 'DE', 'DIREITO', 'SUBSTITUTO', 'DA', '7.ª', 'VARA', 'CÍVEL', 'DA', 'COMARCA', 'DE', 'BOA', 'VISTA', '/', 'RR', ' ', 'CITAÇÃO', 'DE', ':', 'FRANCISCO', 'JOSÉ', 'CARDOSO', ',', ' ', 'brasileiro', ',', 'casado', ',', 'autônomo', ',', 'estando', 'incerto', 'sabido', '.', ' ', 'FINALIDADE', ':', 'Para', 'tomar', 'conhecimento', 'termos', 'Processo', 'n.º', '0010', '02', '045927', '-6', ',', 'Ação', 'DIVÓRCIO', 'LITIGIOSO', ',', 'partes', ':', 'Requerente(s', ')', 'L.L.C.', ' ', 'Requerido(a', ')', 'F.J.C.', ',', 'ciência', 'ônus', 'comparecer', 'audiência', 'Conciliação', ' ', 'designada', 'dia', '14/03/2003', '10h30min', ',', ' ', 'sala', 'audiências', 'Juízo', ',', 'acompanhada', 'advogado', ',', 'penas', 'lei', '.', 'A', 'data', 'correrá', 'prazo', '15', '(', 'quin', 'ze', ')', 'dias', 'apresentar', 'contestação', ',', 'pena', 'fazendo', ',', 'presumirem', '-se', 'verdadeiros', 'fatos', 'articulados', 'pelo(a', ')', 'autor(a', ')', 'inicial', '.', ' ', 'SEDE', 'DO', 'JUÍZO', ':', '7.ª', 'Vara', 'Cível', '–', 'Edifício', 'Fórum', 'Advogado', 'Sobral', 'Pinto', '–', 'Praça', 'Centro', 'Cívico', ',', 's', '/', 'n', '–', 'Cent', 'ro', '–', 'Boa', 'Vista', '/', 'RR', '.', ' ', 'Dado', 'passado', 'Cidade', 'Boa', 'Vista', ',', 'Capital', 'Estado', 'Roraima', 'dias', 'janeiro', 'ano', '.', 'Eu', ',', 'P.G.J.', '(', 'Técnica', 'Judiciária', ')', 'digitei', '.', ' ', 'ELVO', 'PIGARI', 'JÚNIOR', 'Juiz', 'Direito']\n"
     ]
    }
   ],
   "source": [
    "token_list = []\n",
    "for token in corpus_ent:\n",
    "    token_list.append(token.text)\n",
    "\n",
    "stop_lista = []\n",
    "for words in nlp.Defaults.stop_words:\n",
    "    stop_lista.append(words)\n",
    "\n",
    "semstop = [word for word in token_list if not word in stop_lista]\n",
    "\n",
    "print(corpus_ent.text)\n",
    "print(semstop)"
   ],
   "metadata": {
    "collapsed": false,
    "ExecuteTime": {
     "start_time": "2023-06-17T20:03:38.427053Z",
     "end_time": "2023-06-17T20:03:38.453609Z"
    }
   }
  },
  {
   "cell_type": "markdown",
   "source": [
    "## cada palavra é marcada por um hash assim depois que registrada ela só é solicidatada novamente como referencia"
   ],
   "metadata": {
    "collapsed": false
   }
  },
  {
   "cell_type": "code",
   "execution_count": 13,
   "outputs": [
    {
     "name": "stdout",
     "output_type": "stream",
     "text": [
      "HASH:  17702767368834614664\n",
      "Hash:  17702767368834614664\n",
      "String:  Roraima\n"
     ]
    }
   ],
   "source": [
    "print(\"HASH: \", nlp.vocab.strings[\"Roraima\"])\n",
    "print(\"Hash: \", corpus_ent.vocab.strings[\"Roraima\"])\n",
    "print(\"String: \", nlp.vocab.strings[17702767368834614664])"
   ],
   "metadata": {
    "collapsed": false,
    "ExecuteTime": {
     "start_time": "2023-06-17T20:03:38.442081Z",
     "end_time": "2023-06-17T20:03:38.469627Z"
    }
   }
  },
  {
   "cell_type": "code",
   "execution_count": 14,
   "outputs": [
    {
     "name": "stdout",
     "output_type": "stream",
     "text": [
      "Roraima  -  17702767368834614664  -  True  -  False\n"
     ]
    }
   ],
   "source": [
    "lex = nlp.vocab['Roraima']\n",
    "print(lex.text, \" - \", lex.orth, \" - \", lex.is_alpha, \" - \", lex.is_lower)"
   ],
   "metadata": {
    "collapsed": false,
    "ExecuteTime": {
     "start_time": "2023-06-17T20:03:38.458118Z",
     "end_time": "2023-06-17T20:03:38.484239Z"
    }
   }
  },
  {
   "cell_type": "markdown",
   "source": [
    "### coso quisermos ver qual a relação da palavra selecionada com outras"
   ],
   "metadata": {
    "collapsed": false
   }
  },
  {
   "cell_type": "code",
   "execution_count": 15,
   "outputs": [
    {
     "name": "stdout",
     "output_type": "stream",
     "text": [
      "(300,)\n"
     ]
    }
   ],
   "source": [
    "print(nlp(\"Roraima\").vector.shape)"
   ],
   "metadata": {
    "collapsed": false,
    "ExecuteTime": {
     "start_time": "2023-06-17T20:03:38.474647Z",
     "end_time": "2023-06-17T20:03:38.561422Z"
    }
   }
  },
  {
   "cell_type": "code",
   "execution_count": 16,
   "outputs": [
    {
     "name": "stdout",
     "output_type": "stream",
     "text": [
      "[ 1.0938   -0.061624 -1.852     0.32959  -0.34322   2.5927    0.53536\n",
      "  0.18039  -0.49738   1.2613    0.95366  -0.51449  -0.86224  -0.10376\n",
      "  0.74782  -0.1987   -0.52606   0.86719   0.28412  -1.3181    0.41129\n",
      "  0.32602   0.46123  -0.77232  -0.70063  -1.6201   -0.52666   1.9332\n",
      "  1.0388   -0.18278   1.5024    1.3986    2.157     0.90462   1.8263\n",
      " -0.40849   0.38575   0.13716  -1.4513   -0.031369 -0.55159   1.2791\n",
      "  1.0874   -0.50886   2.5338    0.89888  -0.40607   1.3009    0.43228\n",
      "  0.60618   0.78351  -2.2509   -0.3501   -0.094988  0.20098   1.3304\n",
      " -0.32056   0.35946  -0.51979   0.91104   0.54594   0.52751   0.79509\n",
      " -0.99128  -1.454    -1.6936    0.41625  -0.29888  -1.7103    1.214\n",
      " -0.40157   0.15176   0.84837  -0.76181  -1.111     1.944    -0.24558\n",
      " -0.71593  -0.86187   0.28173  -1.8448    1.7714   -0.371     1.1384\n",
      " -0.46247  -1.128    -1.3554    0.079491 -1.8408   -0.52081  -1.5859\n",
      "  0.094489 -1.2738    1.0524   -0.32918  -1.2094    0.97167   0.1427\n",
      "  0.4039   -1.3466   -1.0721   -0.67229  -0.83879  -0.49335   0.47011\n",
      "  2.1418   -0.31999   0.7243   -0.47687   0.88326   0.35754  -0.097851\n",
      "  0.80734  -1.0975    0.84905   0.64224  -1.1271    0.048496 -0.38869\n",
      "  0.2556    0.86115   0.54184   0.079908 -3.1422   -1.08     -0.021792\n",
      " -0.60883   1.5777    1.6125   -1.5185    1.7148   -0.11424  -1.6911\n",
      "  0.57819  -0.78748  -0.28789  -0.10022   1.0285   -1.9845    0.036723\n",
      "  0.87281   1.1082   -0.6963    0.19675  -0.10988   0.59925   1.3178\n",
      " -0.41933  -0.42267  -0.96472  -0.67769  -0.94336   0.37144  -0.23187\n",
      "  3.6879   -0.86893  -0.18437   1.4307    0.97142  -0.56712  -1.1188\n",
      "  0.29166  -0.81542   1.1609   -0.51972   0.5259    1.7285    0.61163\n",
      "  2.8499    1.9602    1.2482   -0.34377   0.27669   0.50712   0.75312\n",
      " -1.5607    0.28041   0.67239  -1.6895    0.8591    0.81737   0.94392\n",
      "  1.6045    1.7796   -1.9281    1.4858   -1.0974    0.42281  -1.0515\n",
      "  0.51542  -0.28278   1.7031   -1.1792    1.3901    2.8796    1.1286\n",
      "  1.2715    1.9534   -2.4563    0.27329  -3.0494   -1.7012    0.79503\n",
      "  0.67423   0.72902   0.9559    1.2994    0.94191   1.7322    0.35943\n",
      " -1.0184    0.41589   0.13143  -0.29846  -0.59335  -0.066394 -2.1072\n",
      "  0.22331  -1.3148    0.10693  -0.97514   0.50871   2.4849    0.38263\n",
      "  0.55053  -0.69708   1.8531    1.7751   -0.53828   0.14429   0.22624\n",
      " -0.533     0.92139  -0.92852   3.7423   -0.92902   1.4435   -2.4915\n",
      "  0.98283   0.50369  -0.90377  -0.62912   2.3923    0.91311   2.2426\n",
      "  0.55636   2.7495   -0.64317  -1.1278    0.12758  -0.79404   1.3665\n",
      " -1.8011    0.54288  -1.9278    0.23825  -0.20057   0.988     0.41\n",
      " -0.78771  -1.2993   -1.1706   -0.9563   -0.54729   0.82561   1.5878\n",
      " -0.16565  -0.97252   0.50919  -0.33766   0.76272  -0.78707  -1.1576\n",
      "  1.4777   -0.027958  1.0734   -0.75783   0.21917  -0.2648   -0.37852\n",
      " -0.96875   1.5187    1.2779   -0.87136  -0.93813   0.77478   0.82617\n",
      " -2.1563    0.51112  -0.85851  -0.21554   0.35138  -0.732    -0.50954\n",
      " -1.1305   -0.94586   0.41916  -2.2634    1.2956   -0.066714]\n"
     ]
    }
   ],
   "source": [
    "print(nlp(\"Roraima\").vector)"
   ],
   "metadata": {
    "collapsed": false,
    "ExecuteTime": {
     "start_time": "2023-06-17T20:03:38.489240Z",
     "end_time": "2023-06-17T20:03:38.562424Z"
    }
   }
  },
  {
   "cell_type": "markdown",
   "source": [
    "### busca de similaridades vs matcher\n",
    "\n",
    "- similaridade retorna um valor ( metrica 0 a 1 )\n",
    "- match busca um padrão, semelhante a uma expressão regular"
   ],
   "metadata": {
    "collapsed": false
   }
  },
  {
   "cell_type": "code",
   "execution_count": 17,
   "outputs": [],
   "source": [
    "doc_1 = nlp(\"ele viajou com a amiga de carro\")\n",
    "doc_2 = nlp(\"ela viajou com o amigo de carro\")"
   ],
   "metadata": {
    "collapsed": false,
    "ExecuteTime": {
     "start_time": "2023-06-17T20:03:38.504780Z",
     "end_time": "2023-06-17T20:03:38.562424Z"
    }
   }
  },
  {
   "cell_type": "code",
   "execution_count": 18,
   "outputs": [
    {
     "name": "stdout",
     "output_type": "stream",
     "text": [
      "0.807984647758134\n",
      "0.807984647758134\n"
     ]
    }
   ],
   "source": [
    "print(doc_1.similarity(doc_2))\n",
    "print(doc_2.similarity(doc_1))"
   ],
   "metadata": {
    "collapsed": false,
    "ExecuteTime": {
     "start_time": "2023-06-17T20:03:38.535847Z",
     "end_time": "2023-06-17T20:03:38.563431Z"
    }
   }
  },
  {
   "cell_type": "code",
   "execution_count": 19,
   "outputs": [
    {
     "name": "stdout",
     "output_type": "stream",
     "text": [
      "ele pede descrição\n",
      "ele pede discrição\n",
      "0.9600715041160583\n"
     ]
    }
   ],
   "source": [
    "doc_3 = nlp(\"ele pede descrição, ele pede discrição\")\n",
    "partA = doc_3[0:3]\n",
    "print(partA)\n",
    "partB = doc_3[4:7]\n",
    "print(partB)\n",
    "print(partA.similarity(partB))"
   ],
   "metadata": {
    "collapsed": false,
    "ExecuteTime": {
     "start_time": "2023-06-17T20:03:38.550891Z",
     "end_time": "2023-06-17T20:03:38.563938Z"
    }
   }
  },
  {
   "cell_type": "markdown",
   "source": [
    "### no uso do match é semlhante a expressões regulares"
   ],
   "metadata": {
    "collapsed": false
   }
  },
  {
   "cell_type": "code",
   "execution_count": 27,
   "outputs": [
    {
     "name": "stdout",
     "output_type": "stream",
     "text": [
      "(21) 40040707\n"
     ]
    }
   ],
   "source": [
    "from spacy.matcher import Matcher\n",
    "\n",
    "doc_4 = nlp(\"Você pode ligar para (11) 4002-8922 ou (21) 40040707\")\n",
    "\n",
    "matcher = Matcher(nlp.vocab)\n",
    "padrao_1 = [{\"ORTH\":\"(\"},{\"SHAPE\":\"dd\"},{\"ORTH\":\")\"},{\"ORTH\":\"-\", \"OP\":\"?\"}, {\"IS_DIGIT\":True}]\n",
    "padrao_2 = [{\"ORTH\":\"(\"},{\"SHAPE\":\"dd\"},{\"ORTH\":\")\"},{\"ORTH\":\"-\", \"OP\":\"?\"}, { \"SHAPE\":\"dddd\"},{\"ORTH\":\"-\",\"OP\":\"?\"}, { \"SHAPE\":\"dddd\"}]\n",
    "matcher.add(\"telefone\", [padrao_1, padrao_2])\n",
    "matches = matcher(doc_4)\n",
    "for id, inicio, fim in matches:\n",
    "    print(doc_4[inicio:fim])"
   ],
   "metadata": {
    "collapsed": false,
    "ExecuteTime": {
     "start_time": "2023-06-17T20:31:31.053105Z",
     "end_time": "2023-06-17T20:31:31.081190Z"
    }
   }
  },
  {
   "cell_type": "code",
   "execution_count": 22,
   "outputs": [
    {
     "name": "stdout",
     "output_type": "stream",
     "text": [
      "micro organismos\n",
      "microorganismos\n",
      "micro-organismos\n"
     ]
    }
   ],
   "source": [
    "doc_5 = nlp(\"Estamos infectados com micro organismos, os microorganismos são perigosos, pois os não exergamos os micro-organismos\")\n",
    "matcher = Matcher(nlp.vocab)\n",
    "padrao_3 = [{\"LOWER\":\"micro\"},{\"LOWER\":\"organismos\"}]\n",
    "padrao_4 = [{\"LOWER\":\"micro-organismos\"}]\n",
    "padrao_5 = [{\"LOWER\":\"microorganismos\"}]\n",
    "matcher.add(\"micro\", [padrao_3, padrao_4, padrao_5])\n",
    "matches = matcher(doc_5)\n",
    "for id, inicio, fim in matches:\n",
    "    print(doc_5[inicio:fim])"
   ],
   "metadata": {
    "collapsed": false,
    "ExecuteTime": {
     "start_time": "2023-06-17T20:03:48.438176Z",
     "end_time": "2023-06-17T20:03:48.469170Z"
    }
   }
  },
  {
   "cell_type": "markdown",
   "source": [
    "## Dispalcy\n",
    "- permite vizualizar"
   ],
   "metadata": {
    "collapsed": false
   }
  },
  {
   "cell_type": "code",
   "execution_count": 34,
   "outputs": [
    {
     "data": {
      "text/plain": "<IPython.core.display.HTML object>",
      "text/html": "<span class=\"tex2jax_ignore\"><div class=\"entities\" style=\"line-height: 2.5; direction: ltr\">EDITAL DE CITAÇÃO COM PRAZO DE  30 DIAS  O DOUTOR \n<mark class=\"entity\" style=\"background: #ddd; padding: 0.45em 0.6em; margin: 0 0.25em; line-height: 1; border-radius: 0.35em;\">\n    ELVO PIGARI JÚNIOR JUIZ DE DIREITO SUBSTITUTO DA\n    <span style=\"font-size: 0.8em; font-weight: bold; line-height: 1; border-radius: 0.35em; vertical-align: middle; margin-left: 0.5rem\">MISC</span>\n</mark>\n 7.ª VARA CÍVEL DA COMARCA DE \n<mark class=\"entity\" style=\"background: #ff9561; padding: 0.45em 0.6em; margin: 0 0.25em; line-height: 1; border-radius: 0.35em;\">\n    BOA VISTA\n    <span style=\"font-size: 0.8em; font-weight: bold; line-height: 1; border-radius: 0.35em; vertical-align: middle; margin-left: 0.5rem\">LOC</span>\n</mark>\n/\n<mark class=\"entity\" style=\"background: #7aecec; padding: 0.45em 0.6em; margin: 0 0.25em; line-height: 1; border-radius: 0.35em;\">\n    RR  CITAÇÃO DE\n    <span style=\"font-size: 0.8em; font-weight: bold; line-height: 1; border-radius: 0.35em; vertical-align: middle; margin-left: 0.5rem\">ORG</span>\n</mark>\n: \n<mark class=\"entity\" style=\"background: #ddd; padding: 0.45em 0.6em; margin: 0 0.25em; line-height: 1; border-radius: 0.35em;\">\n    FRANCISCO JOSÉ CARDOSO\n    <span style=\"font-size: 0.8em; font-weight: bold; line-height: 1; border-radius: 0.35em; vertical-align: middle; margin-left: 0.5rem\">PER</span>\n</mark>\n,  brasileiro, casado, autônomo, estando em lugar incerto e não sabido.  \n<mark class=\"entity\" style=\"background: #7aecec; padding: 0.45em 0.6em; margin: 0 0.25em; line-height: 1; border-radius: 0.35em;\">\n    FINALIDADE\n    <span style=\"font-size: 0.8em; font-weight: bold; line-height: 1; border-radius: 0.35em; vertical-align: middle; margin-left: 0.5rem\">ORG</span>\n</mark>\n: Para tomar conhecimento dos termos do \n<mark class=\"entity\" style=\"background: #ddd; padding: 0.45em 0.6em; margin: 0 0.25em; line-height: 1; border-radius: 0.35em;\">\n    Processo n.º 0010 02\n    <span style=\"font-size: 0.8em; font-weight: bold; line-height: 1; border-radius: 0.35em; vertical-align: middle; margin-left: 0.5rem\">MISC</span>\n</mark>\n 045927 -6, \n<mark class=\"entity\" style=\"background: #ddd; padding: 0.45em 0.6em; margin: 0 0.25em; line-height: 1; border-radius: 0.35em;\">\n    Ação de DIVÓRCIO LITIGIOSO\n    <span style=\"font-size: 0.8em; font-weight: bold; line-height: 1; border-radius: 0.35em; vertical-align: middle; margin-left: 0.5rem\">MISC</span>\n</mark>\n , em que são partes: \n<mark class=\"entity\" style=\"background: #ddd; padding: 0.45em 0.6em; margin: 0 0.25em; line-height: 1; border-radius: 0.35em;\">\n    Requerente(s\n    <span style=\"font-size: 0.8em; font-weight: bold; line-height: 1; border-radius: 0.35em; vertical-align: middle; margin-left: 0.5rem\">MISC</span>\n</mark>\n) \n<mark class=\"entity\" style=\"background: #ddd; padding: 0.45em 0.6em; margin: 0 0.25em; line-height: 1; border-radius: 0.35em;\">\n    L.L.C.\n    <span style=\"font-size: 0.8em; font-weight: bold; line-height: 1; border-radius: 0.35em; vertical-align: middle; margin-left: 0.5rem\">MISC</span>\n</mark>\n  e \n<mark class=\"entity\" style=\"background: #7aecec; padding: 0.45em 0.6em; margin: 0 0.25em; line-height: 1; border-radius: 0.35em;\">\n    Requerido(a\n    <span style=\"font-size: 0.8em; font-weight: bold; line-height: 1; border-radius: 0.35em; vertical-align: middle; margin-left: 0.5rem\">ORG</span>\n</mark>\n) \n<mark class=\"entity\" style=\"background: #ddd; padding: 0.45em 0.6em; margin: 0 0.25em; line-height: 1; border-radius: 0.35em;\">\n    F.J.C.\n    <span style=\"font-size: 0.8em; font-weight: bold; line-height: 1; border-radius: 0.35em; vertical-align: middle; margin-left: 0.5rem\">PER</span>\n</mark>\n , e ciência do ônus de comparecer a audiência de \n<mark class=\"entity\" style=\"background: #ddd; padding: 0.45em 0.6em; margin: 0 0.25em; line-height: 1; border-radius: 0.35em;\">\n    Conciliação  designada para o dia 14/03/2003\n    <span style=\"font-size: 0.8em; font-weight: bold; line-height: 1; border-radius: 0.35em; vertical-align: middle; margin-left: 0.5rem\">MISC</span>\n</mark>\n às 10h30min,  na sala de audiências deste \n<mark class=\"entity\" style=\"background: #ff9561; padding: 0.45em 0.6em; margin: 0 0.25em; line-height: 1; border-radius: 0.35em;\">\n    Juízo\n    <span style=\"font-size: 0.8em; font-weight: bold; line-height: 1; border-radius: 0.35em; vertical-align: middle; margin-left: 0.5rem\">LOC</span>\n</mark>\n, acompanhada de advogado, sob as penas da lei. A partir desta data correrá o prazo de 15 (\n<mark class=\"entity\" style=\"background: #7aecec; padding: 0.45em 0.6em; margin: 0 0.25em; line-height: 1; border-radius: 0.35em;\">\n    quin ze\n    <span style=\"font-size: 0.8em; font-weight: bold; line-height: 1; border-radius: 0.35em; vertical-align: middle; margin-left: 0.5rem\">ORG</span>\n</mark>\n) dias para apresentar contestação, sob pena de não o fazendo, presumirem -se como verdadeiros os fatos articulados pelo(a) autor(a) da inicial.  SEDE \n<mark class=\"entity\" style=\"background: #ddd; padding: 0.45em 0.6em; margin: 0 0.25em; line-height: 1; border-radius: 0.35em;\">\n    DO JUÍZO\n    <span style=\"font-size: 0.8em; font-weight: bold; line-height: 1; border-radius: 0.35em; vertical-align: middle; margin-left: 0.5rem\">MISC</span>\n</mark>\n : 7.ª \n<mark class=\"entity\" style=\"background: #ff9561; padding: 0.45em 0.6em; margin: 0 0.25em; line-height: 1; border-radius: 0.35em;\">\n    Vara Cível\n    <span style=\"font-size: 0.8em; font-weight: bold; line-height: 1; border-radius: 0.35em; vertical-align: middle; margin-left: 0.5rem\">LOC</span>\n</mark>\n – \n<mark class=\"entity\" style=\"background: #ff9561; padding: 0.45em 0.6em; margin: 0 0.25em; line-height: 1; border-radius: 0.35em;\">\n    Edifício do Fórum Advogado Sobral Pinto\n    <span style=\"font-size: 0.8em; font-weight: bold; line-height: 1; border-radius: 0.35em; vertical-align: middle; margin-left: 0.5rem\">LOC</span>\n</mark>\n – \n<mark class=\"entity\" style=\"background: #ff9561; padding: 0.45em 0.6em; margin: 0 0.25em; line-height: 1; border-radius: 0.35em;\">\n    Praça do Centro Cívico\n    <span style=\"font-size: 0.8em; font-weight: bold; line-height: 1; border-radius: 0.35em; vertical-align: middle; margin-left: 0.5rem\">LOC</span>\n</mark>\n, s/n – Cent ro – \n<mark class=\"entity\" style=\"background: #ff9561; padding: 0.45em 0.6em; margin: 0 0.25em; line-height: 1; border-radius: 0.35em;\">\n    Boa Vista\n    <span style=\"font-size: 0.8em; font-weight: bold; line-height: 1; border-radius: 0.35em; vertical-align: middle; margin-left: 0.5rem\">LOC</span>\n</mark>\n/\n<mark class=\"entity\" style=\"background: #ff9561; padding: 0.45em 0.6em; margin: 0 0.25em; line-height: 1; border-radius: 0.35em;\">\n    RR\n    <span style=\"font-size: 0.8em; font-weight: bold; line-height: 1; border-radius: 0.35em; vertical-align: middle; margin-left: 0.5rem\">LOC</span>\n</mark>\n.  Dado e passado nesta \n<mark class=\"entity\" style=\"background: #ff9561; padding: 0.45em 0.6em; margin: 0 0.25em; line-height: 1; border-radius: 0.35em;\">\n    Cidade de Boa Vista\n    <span style=\"font-size: 0.8em; font-weight: bold; line-height: 1; border-radius: 0.35em; vertical-align: middle; margin-left: 0.5rem\">LOC</span>\n</mark>\n, \n<mark class=\"entity\" style=\"background: #ff9561; padding: 0.45em 0.6em; margin: 0 0.25em; line-height: 1; border-radius: 0.35em;\">\n    Capital\n    <span style=\"font-size: 0.8em; font-weight: bold; line-height: 1; border-radius: 0.35em; vertical-align: middle; margin-left: 0.5rem\">LOC</span>\n</mark>\n do \n<mark class=\"entity\" style=\"background: #ff9561; padding: 0.45em 0.6em; margin: 0 0.25em; line-height: 1; border-radius: 0.35em;\">\n    Estado\n    <span style=\"font-size: 0.8em; font-weight: bold; line-height: 1; border-radius: 0.35em; vertical-align: middle; margin-left: 0.5rem\">LOC</span>\n</mark>\n de \n<mark class=\"entity\" style=\"background: #ff9561; padding: 0.45em 0.6em; margin: 0 0.25em; line-height: 1; border-radius: 0.35em;\">\n    Roraima\n    <span style=\"font-size: 0.8em; font-weight: bold; line-height: 1; border-radius: 0.35em; vertical-align: middle; margin-left: 0.5rem\">LOC</span>\n</mark>\n aos oito dias do mês de janeiro do ano de dois mil e três. Eu, \n<mark class=\"entity\" style=\"background: #ff9561; padding: 0.45em 0.6em; margin: 0 0.25em; line-height: 1; border-radius: 0.35em;\">\n    P.G.J.\n    <span style=\"font-size: 0.8em; font-weight: bold; line-height: 1; border-radius: 0.35em; vertical-align: middle; margin-left: 0.5rem\">LOC</span>\n</mark>\n (\n<mark class=\"entity\" style=\"background: #ff9561; padding: 0.45em 0.6em; margin: 0 0.25em; line-height: 1; border-radius: 0.35em;\">\n    Técnica Judiciária\n    <span style=\"font-size: 0.8em; font-weight: bold; line-height: 1; border-radius: 0.35em; vertical-align: middle; margin-left: 0.5rem\">LOC</span>\n</mark>\n) o digitei.  ELVO \n<mark class=\"entity\" style=\"background: #ddd; padding: 0.45em 0.6em; margin: 0 0.25em; line-height: 1; border-radius: 0.35em;\">\n    PIGARI JÚNIOR\n    <span style=\"font-size: 0.8em; font-weight: bold; line-height: 1; border-radius: 0.35em; vertical-align: middle; margin-left: 0.5rem\">PER</span>\n</mark>\n \n<mark class=\"entity\" style=\"background: #ff9561; padding: 0.45em 0.6em; margin: 0 0.25em; line-height: 1; border-radius: 0.35em;\">\n    Juiz de Direito\n    <span style=\"font-size: 0.8em; font-weight: bold; line-height: 1; border-radius: 0.35em; vertical-align: middle; margin-left: 0.5rem\">LOC</span>\n</mark>\n </div></span>"
     },
     "metadata": {},
     "output_type": "display_data"
    }
   ],
   "source": [
    "from spacy import displacy\n",
    "\n",
    "displacy.render(corpus_ent, style=\"ent\", jupyter=True)"
   ],
   "metadata": {
    "collapsed": false,
    "ExecuteTime": {
     "start_time": "2023-06-17T22:48:15.890939Z",
     "end_time": "2023-06-17T22:48:15.938546Z"
    }
   }
  },
  {
   "cell_type": "code",
   "execution_count": 47,
   "outputs": [
    {
     "data": {
      "text/plain": "<IPython.core.display.HTML object>",
      "text/html": "<span class=\"tex2jax_ignore\"><svg xmlns=\"http://www.w3.org/2000/svg\" xmlns:xlink=\"http://www.w3.org/1999/xlink\" xml:lang=\"pt\" id=\"ab2cf169283e413fbfd080d46bcd20ea-0\" class=\"displacy\" width=\"1100\" height=\"277.0\" direction=\"ltr\" style=\"max-width: none; height: 277.0px; color: #000000; background: #ffffff; font-family: Arial; direction: ltr\">\n<text class=\"displacy-token\" fill=\"currentColor\" text-anchor=\"middle\" y=\"187.0\">\n    <tspan class=\"displacy-word\" fill=\"currentColor\" x=\"50\">Estamos</tspan>\n    <tspan class=\"displacy-tag\" dy=\"2em\" fill=\"currentColor\" x=\"50\">AUX</tspan>\n</text>\n\n<text class=\"displacy-token\" fill=\"currentColor\" text-anchor=\"middle\" y=\"187.0\">\n    <tspan class=\"displacy-word\" fill=\"currentColor\" x=\"120\">infectados</tspan>\n    <tspan class=\"displacy-tag\" dy=\"2em\" fill=\"currentColor\" x=\"120\">ADJ</tspan>\n</text>\n\n<text class=\"displacy-token\" fill=\"currentColor\" text-anchor=\"middle\" y=\"187.0\">\n    <tspan class=\"displacy-word\" fill=\"currentColor\" x=\"190\">com</tspan>\n    <tspan class=\"displacy-tag\" dy=\"2em\" fill=\"currentColor\" x=\"190\">ADP</tspan>\n</text>\n\n<text class=\"displacy-token\" fill=\"currentColor\" text-anchor=\"middle\" y=\"187.0\">\n    <tspan class=\"displacy-word\" fill=\"currentColor\" x=\"260\">micro</tspan>\n    <tspan class=\"displacy-tag\" dy=\"2em\" fill=\"currentColor\" x=\"260\">NOUN</tspan>\n</text>\n\n<text class=\"displacy-token\" fill=\"currentColor\" text-anchor=\"middle\" y=\"187.0\">\n    <tspan class=\"displacy-word\" fill=\"currentColor\" x=\"330\">organismos,</tspan>\n    <tspan class=\"displacy-tag\" dy=\"2em\" fill=\"currentColor\" x=\"330\">ADJ</tspan>\n</text>\n\n<text class=\"displacy-token\" fill=\"currentColor\" text-anchor=\"middle\" y=\"187.0\">\n    <tspan class=\"displacy-word\" fill=\"currentColor\" x=\"400\">os</tspan>\n    <tspan class=\"displacy-tag\" dy=\"2em\" fill=\"currentColor\" x=\"400\">DET</tspan>\n</text>\n\n<text class=\"displacy-token\" fill=\"currentColor\" text-anchor=\"middle\" y=\"187.0\">\n    <tspan class=\"displacy-word\" fill=\"currentColor\" x=\"470\">microorganismos</tspan>\n    <tspan class=\"displacy-tag\" dy=\"2em\" fill=\"currentColor\" x=\"470\">NOUN</tspan>\n</text>\n\n<text class=\"displacy-token\" fill=\"currentColor\" text-anchor=\"middle\" y=\"187.0\">\n    <tspan class=\"displacy-word\" fill=\"currentColor\" x=\"540\">são</tspan>\n    <tspan class=\"displacy-tag\" dy=\"2em\" fill=\"currentColor\" x=\"540\">AUX</tspan>\n</text>\n\n<text class=\"displacy-token\" fill=\"currentColor\" text-anchor=\"middle\" y=\"187.0\">\n    <tspan class=\"displacy-word\" fill=\"currentColor\" x=\"610\">perigosos,</tspan>\n    <tspan class=\"displacy-tag\" dy=\"2em\" fill=\"currentColor\" x=\"610\">ADJ</tspan>\n</text>\n\n<text class=\"displacy-token\" fill=\"currentColor\" text-anchor=\"middle\" y=\"187.0\">\n    <tspan class=\"displacy-word\" fill=\"currentColor\" x=\"680\">pois</tspan>\n    <tspan class=\"displacy-tag\" dy=\"2em\" fill=\"currentColor\" x=\"680\">SCONJ</tspan>\n</text>\n\n<text class=\"displacy-token\" fill=\"currentColor\" text-anchor=\"middle\" y=\"187.0\">\n    <tspan class=\"displacy-word\" fill=\"currentColor\" x=\"750\">os</tspan>\n    <tspan class=\"displacy-tag\" dy=\"2em\" fill=\"currentColor\" x=\"750\">DET</tspan>\n</text>\n\n<text class=\"displacy-token\" fill=\"currentColor\" text-anchor=\"middle\" y=\"187.0\">\n    <tspan class=\"displacy-word\" fill=\"currentColor\" x=\"820\">não</tspan>\n    <tspan class=\"displacy-tag\" dy=\"2em\" fill=\"currentColor\" x=\"820\">ADV</tspan>\n</text>\n\n<text class=\"displacy-token\" fill=\"currentColor\" text-anchor=\"middle\" y=\"187.0\">\n    <tspan class=\"displacy-word\" fill=\"currentColor\" x=\"890\">exergamos</tspan>\n    <tspan class=\"displacy-tag\" dy=\"2em\" fill=\"currentColor\" x=\"890\">VERB</tspan>\n</text>\n\n<text class=\"displacy-token\" fill=\"currentColor\" text-anchor=\"middle\" y=\"187.0\">\n    <tspan class=\"displacy-word\" fill=\"currentColor\" x=\"960\">os</tspan>\n    <tspan class=\"displacy-tag\" dy=\"2em\" fill=\"currentColor\" x=\"960\">DET</tspan>\n</text>\n\n<text class=\"displacy-token\" fill=\"currentColor\" text-anchor=\"middle\" y=\"187.0\">\n    <tspan class=\"displacy-word\" fill=\"currentColor\" x=\"1030\">micro-organismos</tspan>\n    <tspan class=\"displacy-tag\" dy=\"2em\" fill=\"currentColor\" x=\"1030\">NOUN</tspan>\n</text>\n\n<g class=\"displacy-arrow\">\n    <path class=\"displacy-arc\" id=\"arrow-ab2cf169283e413fbfd080d46bcd20ea-0-0\" stroke-width=\"2px\" d=\"M70,142.0 C70,107.0 105.0,107.0 105.0,142.0\" fill=\"none\" stroke=\"currentColor\"/>\n    <text dy=\"1.25em\" style=\"font-size: 0.8em; letter-spacing: 1px\">\n        <textPath xlink:href=\"#arrow-ab2cf169283e413fbfd080d46bcd20ea-0-0\" class=\"displacy-label\" startOffset=\"50%\" side=\"left\" fill=\"currentColor\" text-anchor=\"middle\">cop</textPath>\n    </text>\n    <path class=\"displacy-arrowhead\" d=\"M70,144.0 L62,132.0 78,132.0\" fill=\"currentColor\"/>\n</g>\n\n<g class=\"displacy-arrow\">\n    <path class=\"displacy-arc\" id=\"arrow-ab2cf169283e413fbfd080d46bcd20ea-0-1\" stroke-width=\"2px\" d=\"M140,142.0 C140,37.0 605.0,37.0 605.0,142.0\" fill=\"none\" stroke=\"currentColor\"/>\n    <text dy=\"1.25em\" style=\"font-size: 0.8em; letter-spacing: 1px\">\n        <textPath xlink:href=\"#arrow-ab2cf169283e413fbfd080d46bcd20ea-0-1\" class=\"displacy-label\" startOffset=\"50%\" side=\"left\" fill=\"currentColor\" text-anchor=\"middle\">advcl</textPath>\n    </text>\n    <path class=\"displacy-arrowhead\" d=\"M140,144.0 L132,132.0 148,132.0\" fill=\"currentColor\"/>\n</g>\n\n<g class=\"displacy-arrow\">\n    <path class=\"displacy-arc\" id=\"arrow-ab2cf169283e413fbfd080d46bcd20ea-0-2\" stroke-width=\"2px\" d=\"M210,142.0 C210,107.0 245.0,107.0 245.0,142.0\" fill=\"none\" stroke=\"currentColor\"/>\n    <text dy=\"1.25em\" style=\"font-size: 0.8em; letter-spacing: 1px\">\n        <textPath xlink:href=\"#arrow-ab2cf169283e413fbfd080d46bcd20ea-0-2\" class=\"displacy-label\" startOffset=\"50%\" side=\"left\" fill=\"currentColor\" text-anchor=\"middle\">case</textPath>\n    </text>\n    <path class=\"displacy-arrowhead\" d=\"M210,144.0 L202,132.0 218,132.0\" fill=\"currentColor\"/>\n</g>\n\n<g class=\"displacy-arrow\">\n    <path class=\"displacy-arc\" id=\"arrow-ab2cf169283e413fbfd080d46bcd20ea-0-3\" stroke-width=\"2px\" d=\"M140,142.0 C140,72.0 250.0,72.0 250.0,142.0\" fill=\"none\" stroke=\"currentColor\"/>\n    <text dy=\"1.25em\" style=\"font-size: 0.8em; letter-spacing: 1px\">\n        <textPath xlink:href=\"#arrow-ab2cf169283e413fbfd080d46bcd20ea-0-3\" class=\"displacy-label\" startOffset=\"50%\" side=\"left\" fill=\"currentColor\" text-anchor=\"middle\">obl</textPath>\n    </text>\n    <path class=\"displacy-arrowhead\" d=\"M250.0,144.0 L258.0,132.0 242.0,132.0\" fill=\"currentColor\"/>\n</g>\n\n<g class=\"displacy-arrow\">\n    <path class=\"displacy-arc\" id=\"arrow-ab2cf169283e413fbfd080d46bcd20ea-0-4\" stroke-width=\"2px\" d=\"M280,142.0 C280,107.0 315.0,107.0 315.0,142.0\" fill=\"none\" stroke=\"currentColor\"/>\n    <text dy=\"1.25em\" style=\"font-size: 0.8em; letter-spacing: 1px\">\n        <textPath xlink:href=\"#arrow-ab2cf169283e413fbfd080d46bcd20ea-0-4\" class=\"displacy-label\" startOffset=\"50%\" side=\"left\" fill=\"currentColor\" text-anchor=\"middle\">amod</textPath>\n    </text>\n    <path class=\"displacy-arrowhead\" d=\"M315.0,144.0 L323.0,132.0 307.0,132.0\" fill=\"currentColor\"/>\n</g>\n\n<g class=\"displacy-arrow\">\n    <path class=\"displacy-arc\" id=\"arrow-ab2cf169283e413fbfd080d46bcd20ea-0-5\" stroke-width=\"2px\" d=\"M420,142.0 C420,107.0 455.0,107.0 455.0,142.0\" fill=\"none\" stroke=\"currentColor\"/>\n    <text dy=\"1.25em\" style=\"font-size: 0.8em; letter-spacing: 1px\">\n        <textPath xlink:href=\"#arrow-ab2cf169283e413fbfd080d46bcd20ea-0-5\" class=\"displacy-label\" startOffset=\"50%\" side=\"left\" fill=\"currentColor\" text-anchor=\"middle\">det</textPath>\n    </text>\n    <path class=\"displacy-arrowhead\" d=\"M420,144.0 L412,132.0 428,132.0\" fill=\"currentColor\"/>\n</g>\n\n<g class=\"displacy-arrow\">\n    <path class=\"displacy-arc\" id=\"arrow-ab2cf169283e413fbfd080d46bcd20ea-0-6\" stroke-width=\"2px\" d=\"M490,142.0 C490,72.0 600.0,72.0 600.0,142.0\" fill=\"none\" stroke=\"currentColor\"/>\n    <text dy=\"1.25em\" style=\"font-size: 0.8em; letter-spacing: 1px\">\n        <textPath xlink:href=\"#arrow-ab2cf169283e413fbfd080d46bcd20ea-0-6\" class=\"displacy-label\" startOffset=\"50%\" side=\"left\" fill=\"currentColor\" text-anchor=\"middle\">nsubj</textPath>\n    </text>\n    <path class=\"displacy-arrowhead\" d=\"M490,144.0 L482,132.0 498,132.0\" fill=\"currentColor\"/>\n</g>\n\n<g class=\"displacy-arrow\">\n    <path class=\"displacy-arc\" id=\"arrow-ab2cf169283e413fbfd080d46bcd20ea-0-7\" stroke-width=\"2px\" d=\"M560,142.0 C560,107.0 595.0,107.0 595.0,142.0\" fill=\"none\" stroke=\"currentColor\"/>\n    <text dy=\"1.25em\" style=\"font-size: 0.8em; letter-spacing: 1px\">\n        <textPath xlink:href=\"#arrow-ab2cf169283e413fbfd080d46bcd20ea-0-7\" class=\"displacy-label\" startOffset=\"50%\" side=\"left\" fill=\"currentColor\" text-anchor=\"middle\">cop</textPath>\n    </text>\n    <path class=\"displacy-arrowhead\" d=\"M560,144.0 L552,132.0 568,132.0\" fill=\"currentColor\"/>\n</g>\n\n<g class=\"displacy-arrow\">\n    <path class=\"displacy-arc\" id=\"arrow-ab2cf169283e413fbfd080d46bcd20ea-0-8\" stroke-width=\"2px\" d=\"M700,142.0 C700,37.0 885.0,37.0 885.0,142.0\" fill=\"none\" stroke=\"currentColor\"/>\n    <text dy=\"1.25em\" style=\"font-size: 0.8em; letter-spacing: 1px\">\n        <textPath xlink:href=\"#arrow-ab2cf169283e413fbfd080d46bcd20ea-0-8\" class=\"displacy-label\" startOffset=\"50%\" side=\"left\" fill=\"currentColor\" text-anchor=\"middle\">mark</textPath>\n    </text>\n    <path class=\"displacy-arrowhead\" d=\"M700,144.0 L692,132.0 708,132.0\" fill=\"currentColor\"/>\n</g>\n\n<g class=\"displacy-arrow\">\n    <path class=\"displacy-arc\" id=\"arrow-ab2cf169283e413fbfd080d46bcd20ea-0-9\" stroke-width=\"2px\" d=\"M770,142.0 C770,72.0 880.0,72.0 880.0,142.0\" fill=\"none\" stroke=\"currentColor\"/>\n    <text dy=\"1.25em\" style=\"font-size: 0.8em; letter-spacing: 1px\">\n        <textPath xlink:href=\"#arrow-ab2cf169283e413fbfd080d46bcd20ea-0-9\" class=\"displacy-label\" startOffset=\"50%\" side=\"left\" fill=\"currentColor\" text-anchor=\"middle\">obj</textPath>\n    </text>\n    <path class=\"displacy-arrowhead\" d=\"M770,144.0 L762,132.0 778,132.0\" fill=\"currentColor\"/>\n</g>\n\n<g class=\"displacy-arrow\">\n    <path class=\"displacy-arc\" id=\"arrow-ab2cf169283e413fbfd080d46bcd20ea-0-10\" stroke-width=\"2px\" d=\"M840,142.0 C840,107.0 875.0,107.0 875.0,142.0\" fill=\"none\" stroke=\"currentColor\"/>\n    <text dy=\"1.25em\" style=\"font-size: 0.8em; letter-spacing: 1px\">\n        <textPath xlink:href=\"#arrow-ab2cf169283e413fbfd080d46bcd20ea-0-10\" class=\"displacy-label\" startOffset=\"50%\" side=\"left\" fill=\"currentColor\" text-anchor=\"middle\">advmod</textPath>\n    </text>\n    <path class=\"displacy-arrowhead\" d=\"M840,144.0 L832,132.0 848,132.0\" fill=\"currentColor\"/>\n</g>\n\n<g class=\"displacy-arrow\">\n    <path class=\"displacy-arc\" id=\"arrow-ab2cf169283e413fbfd080d46bcd20ea-0-11\" stroke-width=\"2px\" d=\"M630,142.0 C630,2.0 890.0,2.0 890.0,142.0\" fill=\"none\" stroke=\"currentColor\"/>\n    <text dy=\"1.25em\" style=\"font-size: 0.8em; letter-spacing: 1px\">\n        <textPath xlink:href=\"#arrow-ab2cf169283e413fbfd080d46bcd20ea-0-11\" class=\"displacy-label\" startOffset=\"50%\" side=\"left\" fill=\"currentColor\" text-anchor=\"middle\">advcl</textPath>\n    </text>\n    <path class=\"displacy-arrowhead\" d=\"M890.0,144.0 L898.0,132.0 882.0,132.0\" fill=\"currentColor\"/>\n</g>\n\n<g class=\"displacy-arrow\">\n    <path class=\"displacy-arc\" id=\"arrow-ab2cf169283e413fbfd080d46bcd20ea-0-12\" stroke-width=\"2px\" d=\"M980,142.0 C980,107.0 1015.0,107.0 1015.0,142.0\" fill=\"none\" stroke=\"currentColor\"/>\n    <text dy=\"1.25em\" style=\"font-size: 0.8em; letter-spacing: 1px\">\n        <textPath xlink:href=\"#arrow-ab2cf169283e413fbfd080d46bcd20ea-0-12\" class=\"displacy-label\" startOffset=\"50%\" side=\"left\" fill=\"currentColor\" text-anchor=\"middle\">det</textPath>\n    </text>\n    <path class=\"displacy-arrowhead\" d=\"M980,144.0 L972,132.0 988,132.0\" fill=\"currentColor\"/>\n</g>\n\n<g class=\"displacy-arrow\">\n    <path class=\"displacy-arc\" id=\"arrow-ab2cf169283e413fbfd080d46bcd20ea-0-13\" stroke-width=\"2px\" d=\"M910,142.0 C910,72.0 1020.0,72.0 1020.0,142.0\" fill=\"none\" stroke=\"currentColor\"/>\n    <text dy=\"1.25em\" style=\"font-size: 0.8em; letter-spacing: 1px\">\n        <textPath xlink:href=\"#arrow-ab2cf169283e413fbfd080d46bcd20ea-0-13\" class=\"displacy-label\" startOffset=\"50%\" side=\"left\" fill=\"currentColor\" text-anchor=\"middle\">obj</textPath>\n    </text>\n    <path class=\"displacy-arrowhead\" d=\"M1020.0,144.0 L1028.0,132.0 1012.0,132.0\" fill=\"currentColor\"/>\n</g>\n</svg></span>"
     },
     "metadata": {},
     "output_type": "display_data"
    }
   ],
   "source": [
    "doc_5.user_data['title'] = \"EXEMPLO de uso\"\n",
    "displacy.render(doc_5, style=\"dep\", jupyter=True, options={ 'distance':70, 'font':'Arial'})"
   ],
   "metadata": {
    "collapsed": false,
    "ExecuteTime": {
     "start_time": "2023-06-17T23:08:15.223607Z",
     "end_time": "2023-06-17T23:08:15.236629Z"
    }
   }
  },
  {
   "cell_type": "markdown",
   "source": [
    "## Desenvolvimento de pipeline"
   ],
   "metadata": {
    "collapsed": false
   }
  },
  {
   "cell_type": "code",
   "execution_count": 49,
   "outputs": [
    {
     "name": "stdout",
     "output_type": "stream",
     "text": [
      "PIPELINE normal:  ['tok2vec', 'morphologizer', 'parser', 'lemmatizer', 'attribute_ruler', 'ner']\n"
     ]
    }
   ],
   "source": [
    "print(\"PIPELINE normal: \", nlp.pipe_names)"
   ],
   "metadata": {
    "collapsed": false,
    "ExecuteTime": {
     "start_time": "2023-06-17T23:11:27.183731Z",
     "end_time": "2023-06-17T23:11:27.194253Z"
    }
   }
  },
  {
   "cell_type": "code",
   "execution_count": 53,
   "outputs": [
    {
     "name": "stdout",
     "output_type": "stream",
     "text": [
      "PIPELINE sem tok2vec:  ['morphologizer', 'parser', 'lemmatizer', 'attribute_ruler', 'ner']\n"
     ]
    }
   ],
   "source": [
    "nlp.remove_pipe('tok2vec')\n",
    "print(\"PIPELINE sem tok2vec: \", nlp.pipe_names)"
   ],
   "metadata": {
    "collapsed": false,
    "ExecuteTime": {
     "start_time": "2023-06-17T23:30:29.464581Z",
     "end_time": "2023-06-17T23:30:29.476612Z"
    }
   }
  },
  {
   "cell_type": "code",
   "execution_count": 54,
   "outputs": [
    {
     "name": "stdout",
     "output_type": "stream",
     "text": [
      "PIPELINE com tok2vec:  ['tok2vec', 'morphologizer', 'parser', 'lemmatizer', 'attribute_ruler', 'ner']\n"
     ]
    }
   ],
   "source": [
    "nlp.add_pipe('tok2vec', before=\"morphologizer\")\n",
    "print(\"PIPELINE com tok2vec: \", nlp.pipe_names)"
   ],
   "metadata": {
    "collapsed": false,
    "ExecuteTime": {
     "start_time": "2023-06-17T23:30:30.590566Z",
     "end_time": "2023-06-17T23:30:30.606024Z"
    }
   }
  }
 ],
 "metadata": {
  "kernelspec": {
   "display_name": "Python 3",
   "language": "python",
   "name": "python3"
  },
  "language_info": {
   "codemirror_mode": {
    "name": "ipython",
    "version": 2
   },
   "file_extension": ".py",
   "mimetype": "text/x-python",
   "name": "python",
   "nbconvert_exporter": "python",
   "pygments_lexer": "ipython2",
   "version": "2.7.6"
  }
 },
 "nbformat": 4,
 "nbformat_minor": 0
}
